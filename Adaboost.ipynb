{
  "nbformat": 4,
  "nbformat_minor": 0,
  "metadata": {
    "colab": {
      "provenance": []
    },
    "kernelspec": {
      "name": "python3",
      "display_name": "Python 3"
    },
    "language_info": {
      "name": "python"
    }
  },
  "cells": [
    {
      "cell_type": "code",
      "execution_count": 1,
      "metadata": {
        "id": "0ctGYAHRzZbq"
      },
      "outputs": [],
      "source": [
        "from sklearn.preprocessing import LabelEncoder\n",
        "from sklearn.tree import DecisionTreeClassifier\n",
        "import pandas as pd\n",
        "import numpy as np\n",
        "\n",
        "from sklearn.metrics import accuracy_score"
      ]
    },
    {
      "cell_type": "code",
      "source": [
        "df = pd.read_csv(\"heart.csv\")\n",
        "\n",
        "print(df.head())"
      ],
      "metadata": {
        "colab": {
          "base_uri": "https://localhost:8080/"
        },
        "id": "vQ9LRNTRzpxE",
        "outputId": "0ffc68b8-8d5e-44e8-f4e4-2d4ee23be3e7"
      },
      "execution_count": 2,
      "outputs": [
        {
          "output_type": "stream",
          "name": "stdout",
          "text": [
            "   Age Sex ChestPainType  RestingBP  Cholesterol  FastingBS RestingECG  MaxHR  \\\n",
            "0   40   M           ATA        140          289          0     Normal    172   \n",
            "1   49   F           NAP        160          180          0     Normal    156   \n",
            "2   37   M           ATA        130          283          0         ST     98   \n",
            "3   48   F           ASY        138          214          0     Normal    108   \n",
            "4   54   M           NAP        150          195          0     Normal    122   \n",
            "\n",
            "  ExerciseAngina  Oldpeak ST_Slope  HeartDisease  \n",
            "0              N      0.0       Up             0  \n",
            "1              N      1.0     Flat             1  \n",
            "2              N      0.0       Up             0  \n",
            "3              Y      1.5     Flat             1  \n",
            "4              N      0.0       Up             0  \n"
          ]
        }
      ]
    },
    {
      "cell_type": "code",
      "source": [
        "label_encoder = LabelEncoder()\n",
        "df['Sex'] = label_encoder.fit_transform(df['Sex'])\n",
        "df['ChestPainType'] = label_encoder.fit_transform(df['ChestPainType'])\n",
        "df['RestingECG'] = label_encoder.fit_transform(df['RestingECG'])\n",
        "df['ExerciseAngina'] = label_encoder.fit_transform(df['ExerciseAngina'])\n",
        "df['ST_Slope'] = label_encoder.fit_transform(df['ST_Slope'])\n",
        "\n",
        "print(df.head())"
      ],
      "metadata": {
        "colab": {
          "base_uri": "https://localhost:8080/"
        },
        "id": "VK34rtHHzud1",
        "outputId": "2120cd6a-e8b8-40de-ae88-183d284afc93"
      },
      "execution_count": 5,
      "outputs": [
        {
          "output_type": "stream",
          "name": "stdout",
          "text": [
            "   Age  Sex  ChestPainType  RestingBP  Cholesterol  FastingBS  RestingECG  \\\n",
            "0   40    1              1        140          289          0           1   \n",
            "1   49    0              2        160          180          0           1   \n",
            "2   37    1              1        130          283          0           2   \n",
            "3   48    0              0        138          214          0           1   \n",
            "4   54    1              2        150          195          0           1   \n",
            "\n",
            "   MaxHR  ExerciseAngina  Oldpeak  ST_Slope  HeartDisease  \n",
            "0    172               0      0.0         2             0  \n",
            "1    156               0      1.0         1             1  \n",
            "2     98               0      0.0         2             0  \n",
            "3    108               1      1.5         1             1  \n",
            "4    122               0      0.0         2             0  \n"
          ]
        }
      ]
    },
    {
      "cell_type": "code",
      "source": [
        "from sklearn.model_selection import train_test_split\n",
        "\n",
        "X = df.iloc[:, :-1]\n",
        "y = df.iloc[:, -1]\n",
        "\n",
        "y = 2 * y - 1\n",
        "\n",
        "X_train, X_temp, y_train, y_temp = train_test_split(X, y, test_size=0.3, random_state=42)\n",
        "X_test, X_val, y_test, y_val = train_test_split(X_temp, y_temp, test_size=0.33, random_state=42)"
      ],
      "metadata": {
        "id": "Gqr35kFuzxJ5"
      },
      "execution_count": 6,
      "outputs": []
    },
    {
      "cell_type": "code",
      "source": [
        "import numpy as np\n",
        "\n",
        "class DecisionStump:\n",
        "    def __init__(self):\n",
        "        self.feature_index = None\n",
        "        self.threshold = None\n",
        "        self.left_label = None\n",
        "        self.right_label = None\n",
        "\n",
        "    def fit(self, X, y):\n",
        "        X = X.values\n",
        "\n",
        "        n_samples, n_features = X.shape\n",
        "        best_gain = -1\n",
        "\n",
        "        for feature_index in range(n_features):\n",
        "            thresholds = np.unique(X[:, feature_index])\n",
        "\n",
        "            for threshold in thresholds:\n",
        "                left_mask = X[:, feature_index] <= threshold\n",
        "                right_mask = X[:, feature_index] > threshold\n",
        "\n",
        "                if np.sum(left_mask) == 0 or np.sum(right_mask) == 0:\n",
        "                    continue\n",
        "\n",
        "                gain = self._information_gain(y, y[left_mask], y[right_mask])\n",
        "\n",
        "                if gain > best_gain:\n",
        "                    best_gain = gain\n",
        "                    self.feature_index = feature_index\n",
        "                    self.threshold = threshold\n",
        "                    self.left_label = self._majority_vote(y[left_mask])\n",
        "                    self.right_label = self._majority_vote(y[right_mask])\n",
        "\n",
        "    def predict(self, X):\n",
        "        X = X.values\n",
        "\n",
        "        left_mask = X[:, self.feature_index] <= self.threshold\n",
        "        right_mask = X[:, self.feature_index] > self.threshold\n",
        "\n",
        "        y_pred = np.zeros(X.shape[0], dtype=int)\n",
        "        y_pred[left_mask] = self.left_label\n",
        "        y_pred[right_mask] = self.right_label\n",
        "\n",
        "        return y_pred\n",
        "\n",
        "    def _entropy(self, y):\n",
        "        _, counts = np.unique(y, return_counts=True)\n",
        "        probabilities = counts / len(y)\n",
        "        return -np.sum(probabilities * np.log2(probabilities + 1e-10))\n",
        "\n",
        "    def _information_gain(self, parent_y, left_y, right_y):\n",
        "        parent_entropy = self._entropy(parent_y)\n",
        "\n",
        "        left_entropy = self._entropy(left_y)\n",
        "        right_entropy = self._entropy(right_y)\n",
        "\n",
        "        n_left = len(left_y)\n",
        "        n_right = len(right_y)\n",
        "        n_total = len(parent_y)\n",
        "        weighted_entropy = (n_left / n_total) * left_entropy + (n_right / n_total) * right_entropy\n",
        "\n",
        "        gain = parent_entropy - weighted_entropy\n",
        "        return gain\n",
        "\n",
        "    def _majority_vote(self, y):\n",
        "        if len(y) == 0:\n",
        "            return 0\n",
        "        unique_labels, counts = np.unique(y, return_counts=True)\n",
        "        return unique_labels[np.argmax(counts)]"
      ],
      "metadata": {
        "id": "JNN1nhd40CQJ"
      },
      "execution_count": 7,
      "outputs": []
    },
    {
      "cell_type": "code",
      "source": [
        "class Adaboost:\n",
        "    def __init__(self):\n",
        "        self.alphas = []\n",
        "        self.models = []\n",
        "\n",
        "\n",
        "    def fit(self, X, y):\n",
        "        rounds = [50, 100, 150]\n",
        "        best_round_size = 50\n",
        "        best_accuracy = 0\n",
        "\n",
        "        for round_size in rounds:\n",
        "            self.alphas = []\n",
        "            self.models = []\n",
        "\n",
        "            self.fit_with_rounds(X, y, round_size)\n",
        "            prediction = self.predict(X_val)\n",
        "            model_accuracy = accuracy_score(y_val, prediction)\n",
        "\n",
        "            if model_accuracy > best_accuracy:\n",
        "                best_accuracy = model_accuracy\n",
        "                best_round_size = round_size\n",
        "\n",
        "        self.alphas = []\n",
        "        self.models = []\n",
        "        self.fit_with_rounds(X, y, best_round_size)\n",
        "\n",
        "\n",
        "    def fit_with_rounds(self, X, y, rounds):\n",
        "        n_samples, _ = X.shape\n",
        "        w = np.ones(n_samples) / n_samples\n",
        "\n",
        "        for _ in range(rounds):\n",
        "            model = DecisionStump()\n",
        "            model.fit(X, y)\n",
        "\n",
        "            predictions = model.predict(X)\n",
        "\n",
        "            err = np.sum(w * (y != predictions)) / np.sum(w)\n",
        "            alpha = 0.5 * np.log((1 - err)/(err + 1e-10))\n",
        "\n",
        "            self.alphas.append(alpha)\n",
        "            self.models.append(model)\n",
        "\n",
        "            w = w * np.exp(-alpha * y * predictions)\n",
        "            w = w / np.sum(w)\n",
        "\n",
        "\n",
        "\n",
        "    def predict(self, X):\n",
        "        predictions = np.zeros(X.shape[0])\n",
        "\n",
        "        for model, alpha in zip(self.models, self.alphas):\n",
        "            predictions += (model.predict(X)) * alpha\n",
        "\n",
        "        return np.sign(predictions).astype(int)\n",
        "\n",
        ""
      ],
      "metadata": {
        "id": "L2autAzE0Dwd"
      },
      "execution_count": 8,
      "outputs": []
    },
    {
      "cell_type": "code",
      "source": [
        "adaboost = Adaboost()\n",
        "adaboost.fit(X_train, y_train)\n",
        "predictions = adaboost.predict(X_test)"
      ],
      "metadata": {
        "id": "n9OI0V9P0FRf"
      },
      "execution_count": 9,
      "outputs": []
    },
    {
      "cell_type": "code",
      "source": [
        "accuracy = accuracy_score(y_test, predictions)\n",
        "print(f\"accuracy is {accuracy}\")"
      ],
      "metadata": {
        "colab": {
          "base_uri": "https://localhost:8080/"
        },
        "id": "jQ11DR7z0Gur",
        "outputId": "5fc2cd52-208f-4138-ac6e-30843034a062"
      },
      "execution_count": 10,
      "outputs": [
        {
          "output_type": "stream",
          "name": "stdout",
          "text": [
            "accuracy is 0.7934782608695652\n"
          ]
        }
      ]
    },
    {
      "cell_type": "code",
      "source": [
        "from sklearn.metrics import f1_score\n",
        "\n",
        "score = f1_score(y_test, predictions, average=None)\n",
        "print(f\"f1 socre is {score}\")"
      ],
      "metadata": {
        "colab": {
          "base_uri": "https://localhost:8080/"
        },
        "id": "HDqSWeLx0Ikc",
        "outputId": "4e187a8c-60a2-4a53-843d-a0b6e64332e6"
      },
      "execution_count": 11,
      "outputs": [
        {
          "output_type": "stream",
          "name": "stdout",
          "text": [
            "f1 socre is [0.7654321  0.81553398]\n"
          ]
        }
      ]
    },
    {
      "cell_type": "code",
      "source": [
        "from sklearn.metrics import confusion_matrix\n",
        "\n",
        "cm = confusion_matrix(y_test, predictions)\n",
        "print(cm)"
      ],
      "metadata": {
        "colab": {
          "base_uri": "https://localhost:8080/"
        },
        "id": "Ytu7WSy90LED",
        "outputId": "5013faa4-d6a6-47fc-af0b-3bb7759b4582"
      },
      "execution_count": 12,
      "outputs": [
        {
          "output_type": "stream",
          "name": "stdout",
          "text": [
            "[[62 17]\n",
            " [21 84]]\n"
          ]
        }
      ]
    },
    {
      "cell_type": "code",
      "source": [
        "%pip install seaborn"
      ],
      "metadata": {
        "colab": {
          "base_uri": "https://localhost:8080/"
        },
        "id": "Fw16BzbV0LZt",
        "outputId": "62c332f2-99cc-465a-e046-005654e706a5"
      },
      "execution_count": 13,
      "outputs": [
        {
          "output_type": "stream",
          "name": "stdout",
          "text": [
            "Requirement already satisfied: seaborn in /usr/local/lib/python3.11/dist-packages (0.13.2)\n",
            "Requirement already satisfied: numpy!=1.24.0,>=1.20 in /usr/local/lib/python3.11/dist-packages (from seaborn) (1.26.4)\n",
            "Requirement already satisfied: pandas>=1.2 in /usr/local/lib/python3.11/dist-packages (from seaborn) (2.2.2)\n",
            "Requirement already satisfied: matplotlib!=3.6.1,>=3.4 in /usr/local/lib/python3.11/dist-packages (from seaborn) (3.10.0)\n",
            "Requirement already satisfied: contourpy>=1.0.1 in /usr/local/lib/python3.11/dist-packages (from matplotlib!=3.6.1,>=3.4->seaborn) (1.3.1)\n",
            "Requirement already satisfied: cycler>=0.10 in /usr/local/lib/python3.11/dist-packages (from matplotlib!=3.6.1,>=3.4->seaborn) (0.12.1)\n",
            "Requirement already satisfied: fonttools>=4.22.0 in /usr/local/lib/python3.11/dist-packages (from matplotlib!=3.6.1,>=3.4->seaborn) (4.56.0)\n",
            "Requirement already satisfied: kiwisolver>=1.3.1 in /usr/local/lib/python3.11/dist-packages (from matplotlib!=3.6.1,>=3.4->seaborn) (1.4.8)\n",
            "Requirement already satisfied: packaging>=20.0 in /usr/local/lib/python3.11/dist-packages (from matplotlib!=3.6.1,>=3.4->seaborn) (24.2)\n",
            "Requirement already satisfied: pillow>=8 in /usr/local/lib/python3.11/dist-packages (from matplotlib!=3.6.1,>=3.4->seaborn) (11.1.0)\n",
            "Requirement already satisfied: pyparsing>=2.3.1 in /usr/local/lib/python3.11/dist-packages (from matplotlib!=3.6.1,>=3.4->seaborn) (3.2.1)\n",
            "Requirement already satisfied: python-dateutil>=2.7 in /usr/local/lib/python3.11/dist-packages (from matplotlib!=3.6.1,>=3.4->seaborn) (2.8.2)\n",
            "Requirement already satisfied: pytz>=2020.1 in /usr/local/lib/python3.11/dist-packages (from pandas>=1.2->seaborn) (2025.1)\n",
            "Requirement already satisfied: tzdata>=2022.7 in /usr/local/lib/python3.11/dist-packages (from pandas>=1.2->seaborn) (2025.1)\n",
            "Requirement already satisfied: six>=1.5 in /usr/local/lib/python3.11/dist-packages (from python-dateutil>=2.7->matplotlib!=3.6.1,>=3.4->seaborn) (1.17.0)\n"
          ]
        }
      ]
    },
    {
      "cell_type": "code",
      "source": [
        "import seaborn as sns\n",
        "import matplotlib.pyplot as plt\n",
        "\n",
        "sns.heatmap(cm, annot=True, fmt='d', cmap='Blues', xticklabels=['Predicted 0', 'Predicted 1'], yticklabels=['Actual 0', 'Actual 1'])\n",
        "plt.xlabel('Predicted')\n",
        "plt.ylabel('Actual')\n",
        "plt.title('Confusion Matrix')\n",
        "plt.show()"
      ],
      "metadata": {
        "colab": {
          "base_uri": "https://localhost:8080/",
          "height": 472
        },
        "id": "084oNID30MvK",
        "outputId": "c479fa71-b411-40a9-f682-a3731cd65e8b"
      },
      "execution_count": 14,
      "outputs": [
        {
          "output_type": "display_data",
          "data": {
            "text/plain": [
              "<Figure size 640x480 with 2 Axes>"
            ],
            "image/png": "[encoded data removed]"
          },
          "metadata": {}
        }
      ]
    },
    {
      "cell_type": "code",
      "source": [],
      "metadata": {
        "id": "kl6ug9qH0OBb"
      },
      "execution_count": null,
      "outputs": []
    }
  ]
}