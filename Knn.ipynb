{
  "nbformat": 4,
  "nbformat_minor": 0,
  "metadata": {
    "colab": {
      "provenance": []
    },
    "kernelspec": {
      "name": "python3",
      "display_name": "Python 3"
    },
    "language_info": {
      "name": "python"
    }
  },
  "cells": [
    {
      "cell_type": "code",
      "execution_count": 7,
      "metadata": {
        "id": "zBgiIjXhyQAR"
      },
      "outputs": [],
      "source": [
        "import numpy as np\n",
        "import pandas as pd\n",
        "\n",
        "from sklearn.preprocessing import LabelEncoder\n",
        "from sklearn.model_selection import train_test_split\n",
        "from sklearn.neighbors import KNeighborsClassifier\n",
        "from sklearn.metrics import accuracy_score"
      ]
    },
    {
      "cell_type": "code",
      "source": [
        "df = pd.read_csv(\"heart.csv\")\n",
        "print(df.head())"
      ],
      "metadata": {
        "colab": {
          "base_uri": "https://localhost:8080/"
        },
        "id": "qrropQfgzDD9",
        "outputId": "31999326-ccc8-4896-d5f8-9956edd8da55"
      },
      "execution_count": 8,
      "outputs": [
        {
          "output_type": "stream",
          "name": "stdout",
          "text": [
            "   Age Sex ChestPainType  RestingBP  Cholesterol  FastingBS RestingECG  MaxHR  \\\n",
            "0   40   M           ATA        140          289          0     Normal    172   \n",
            "1   49   F           NAP        160          180          0     Normal    156   \n",
            "2   37   M           ATA        130          283          0         ST     98   \n",
            "3   48   F           ASY        138          214          0     Normal    108   \n",
            "4   54   M           NAP        150          195          0     Normal    122   \n",
            "\n",
            "  ExerciseAngina  Oldpeak ST_Slope  HeartDisease  \n",
            "0              N      0.0       Up             0  \n",
            "1              N      1.0     Flat             1  \n",
            "2              N      0.0       Up             0  \n",
            "3              Y      1.5     Flat             1  \n",
            "4              N      0.0       Up             0  \n"
          ]
        }
      ]
    },
    {
      "cell_type": "code",
      "source": [
        "label_encoder = LabelEncoder()\n",
        "\n",
        "df['Sex'] = label_encoder.fit_transform(df['Sex'])\n",
        "df['ChestPainType'] = label_encoder.fit_transform(df['ChestPainType'])\n",
        "df['RestingECG'] = label_encoder.fit_transform(df['RestingECG'])\n",
        "df['ExerciseAngina'] = label_encoder.fit_transform(df['ExerciseAngina'])\n",
        "df['ST_Slope'] = label_encoder.fit_transform(df['ST_Slope'])\n",
        "\n",
        "print(df.head())"
      ],
      "metadata": {
        "colab": {
          "base_uri": "https://localhost:8080/"
        },
        "id": "kMqR9WN1zFN3",
        "outputId": "13606740-3365-4474-8848-f04ea612468c"
      },
      "execution_count": 9,
      "outputs": [
        {
          "output_type": "stream",
          "name": "stdout",
          "text": [
            "   Age  Sex  ChestPainType  RestingBP  Cholesterol  FastingBS  RestingECG  \\\n",
            "0   40    1              1        140          289          0           1   \n",
            "1   49    0              2        160          180          0           1   \n",
            "2   37    1              1        130          283          0           2   \n",
            "3   48    0              0        138          214          0           1   \n",
            "4   54    1              2        150          195          0           1   \n",
            "\n",
            "   MaxHR  ExerciseAngina  Oldpeak  ST_Slope  HeartDisease  \n",
            "0    172               0      0.0         2             0  \n",
            "1    156               0      1.0         1             1  \n",
            "2     98               0      0.0         2             0  \n",
            "3    108               1      1.5         1             1  \n",
            "4    122               0      0.0         2             0  \n"
          ]
        }
      ]
    },
    {
      "cell_type": "code",
      "source": [
        "X = df.iloc[:, : -1]\n",
        "y = df.iloc[:, -1]\n",
        "\n",
        "X_train, X_temp, y_train, y_temp = train_test_split(X, y, test_size=0.3, random_state=42)\n",
        "X_test, X_val, y_test, y_val = train_test_split(X_temp, y_temp, test_size=0.33, random_state=42)"
      ],
      "metadata": {
        "id": "D9-BGpRCzRf9"
      },
      "execution_count": 10,
      "outputs": []
    },
    {
      "cell_type": "code",
      "source": [
        "k_select = [3, 5, 7, 11]\n",
        "matrics = ['euclidean', 'manhattan', 'minkowski']\n",
        "\n",
        "best_k = None\n",
        "best_metric = None\n",
        "best_accuracy = 0\n",
        "\n",
        "for k in k_select:\n",
        "    for matric in matrics:\n",
        "\n",
        "        knn = KNeighborsClassifier(n_neighbors=k, metric=matric)\n",
        "        knn.fit(X_train, y_train)\n",
        "\n",
        "        prediction = knn.predict(X_val)\n",
        "        accuracy = accuracy_score(y_val, prediction)\n",
        "\n",
        "        if(accuracy > best_accuracy):\n",
        "            best_accuracy = accuracy\n",
        "            best_k = k\n",
        "            best_metric = matric\n",
        "\n",
        "\n",
        "\n",
        "print(best_k)\n",
        "print(best_metric)\n",
        "\n",
        "best_knn = KNeighborsClassifier(n_neighbors=best_k, metric=best_metric)\n",
        "best_knn.fit(X_train, y_train)\n",
        "\n",
        "predictions = best_knn.predict(X_test)\n",
        "\n",
        "accuracy = accuracy_score(y_test, predictions)\n",
        "\n",
        "print(accuracy)"
      ],
      "metadata": {
        "colab": {
          "base_uri": "https://localhost:8080/"
        },
        "id": "8VW2LBQQzTLW",
        "outputId": "04cc2fc5-9d4d-48f1-8142-64a62ce45d1e"
      },
      "execution_count": 11,
      "outputs": [
        {
          "output_type": "stream",
          "name": "stdout",
          "text": [
            "3\n",
            "manhattan\n",
            "0.7282608695652174\n"
          ]
        }
      ]
    },
    {
      "cell_type": "code",
      "source": [],
      "metadata": {
        "id": "LrC1n5GWzU0o"
      },
      "execution_count": 11,
      "outputs": []
    }
  ]
}