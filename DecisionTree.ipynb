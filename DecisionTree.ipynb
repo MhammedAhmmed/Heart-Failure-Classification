{
 "cells": [
  {
   "cell_type": "markdown",
   "id": "64c675a8-cc8b-4309-96ec-23e6b76a65bc",
   "metadata": {},
   "source": [
    "## Import libraries"
   ]
  },
  {
   "cell_type": "code",
   "execution_count": 43,
   "id": "8fc7a3bb-342b-4ab1-9c5e-cb1e3f06526f",
   "metadata": {},
   "outputs": [],
   "source": [
    "import numpy as np\n",
    "import pandas as pd\n",
    "import matplotlib.pyplot as plt\n",
    "import seaborn as sns\n",
    "from sklearn.model_selection import train_test_split # for split data into trainging, validation and testing\n",
    "from sklearn.preprocessing import LabelEncoder # for encoding categorical features to numerical\n",
    "from sklearn.metrics import accuracy_score, precision_score, recall_score, f1_score, confusion_matrix, classification_report # for Evaluation"
   ]
  },
  {
   "cell_type": "markdown",
   "id": "77b01b7e-54b9-4666-9d3f-d818bb284d23",
   "metadata": {},
   "source": [
    "## Show downloaded data"
   ]
  },
  {
   "cell_type": "code",
   "execution_count": 6,
   "id": "59b3af83-60cf-4587-b23e-1e48802e1dd0",
   "metadata": {},
   "outputs": [
    {
     "name": "stdout",
     "output_type": "stream",
     "text": [
      "   Age Sex ChestPainType  RestingBP  Cholesterol  FastingBS RestingECG  MaxHR  \\\n",
      "0   40   M           ATA        140          289          0     Normal    172   \n",
      "1   49   F           NAP        160          180          0     Normal    156   \n",
      "2   37   M           ATA        130          283          0         ST     98   \n",
      "3   48   F           ASY        138          214          0     Normal    108   \n",
      "4   54   M           NAP        150          195          0     Normal    122   \n",
      "\n",
      "  ExerciseAngina  Oldpeak ST_Slope  HeartDisease  \n",
      "0              N      0.0       Up             0  \n",
      "1              N      1.0     Flat             1  \n",
      "2              N      0.0       Up             0  \n",
      "3              Y      1.5     Flat             1  \n",
      "4              N      0.0       Up             0  \n"
     ]
    }
   ],
   "source": [
    "df = pd.read_csv(\"archive/heart.csv\")\n",
    "print(df.head())  # Show the first few rows"
   ]
  },
  {
   "cell_type": "markdown",
   "id": "7794c59f-072d-41e5-bafd-c0bb1fe3cef2",
   "metadata": {},
   "source": [
    "## Encoding Categorical features"
   ]
  },
  {
   "cell_type": "code",
   "execution_count": 9,
   "id": "b71a8479-7cb0-4298-8df2-780a4f18e03a",
   "metadata": {},
   "outputs": [
    {
     "data": {
      "text/html": [
       "<div>\n",
       "<style scoped>\n",
       "    .dataframe tbody tr th:only-of-type {\n",
       "        vertical-align: middle;\n",
       "    }\n",
       "\n",
       "    .dataframe tbody tr th {\n",
       "        vertical-align: top;\n",
       "    }\n",
       "\n",
       "    .dataframe thead th {\n",
       "        text-align: right;\n",
       "    }\n",
       "</style>\n",
       "<table border=\"1\" class=\"dataframe\">\n",
       "  <thead>\n",
       "    <tr style=\"text-align: right;\">\n",
       "      <th></th>\n",
       "      <th>Age</th>\n",
       "      <th>Sex</th>\n",
       "      <th>ChestPainType</th>\n",
       "      <th>RestingBP</th>\n",
       "      <th>Cholesterol</th>\n",
       "      <th>FastingBS</th>\n",
       "      <th>RestingECG</th>\n",
       "      <th>MaxHR</th>\n",
       "      <th>ExerciseAngina</th>\n",
       "      <th>Oldpeak</th>\n",
       "      <th>ST_Slope</th>\n",
       "      <th>HeartDisease</th>\n",
       "    </tr>\n",
       "  </thead>\n",
       "  <tbody>\n",
       "    <tr>\n",
       "      <th>0</th>\n",
       "      <td>40</td>\n",
       "      <td>1</td>\n",
       "      <td>1</td>\n",
       "      <td>140</td>\n",
       "      <td>289</td>\n",
       "      <td>0</td>\n",
       "      <td>1</td>\n",
       "      <td>172</td>\n",
       "      <td>0</td>\n",
       "      <td>0.0</td>\n",
       "      <td>2</td>\n",
       "      <td>0</td>\n",
       "    </tr>\n",
       "    <tr>\n",
       "      <th>1</th>\n",
       "      <td>49</td>\n",
       "      <td>0</td>\n",
       "      <td>2</td>\n",
       "      <td>160</td>\n",
       "      <td>180</td>\n",
       "      <td>0</td>\n",
       "      <td>1</td>\n",
       "      <td>156</td>\n",
       "      <td>0</td>\n",
       "      <td>1.0</td>\n",
       "      <td>1</td>\n",
       "      <td>1</td>\n",
       "    </tr>\n",
       "    <tr>\n",
       "      <th>2</th>\n",
       "      <td>37</td>\n",
       "      <td>1</td>\n",
       "      <td>1</td>\n",
       "      <td>130</td>\n",
       "      <td>283</td>\n",
       "      <td>0</td>\n",
       "      <td>2</td>\n",
       "      <td>98</td>\n",
       "      <td>0</td>\n",
       "      <td>0.0</td>\n",
       "      <td>2</td>\n",
       "      <td>0</td>\n",
       "    </tr>\n",
       "    <tr>\n",
       "      <th>3</th>\n",
       "      <td>48</td>\n",
       "      <td>0</td>\n",
       "      <td>0</td>\n",
       "      <td>138</td>\n",
       "      <td>214</td>\n",
       "      <td>0</td>\n",
       "      <td>1</td>\n",
       "      <td>108</td>\n",
       "      <td>1</td>\n",
       "      <td>1.5</td>\n",
       "      <td>1</td>\n",
       "      <td>1</td>\n",
       "    </tr>\n",
       "    <tr>\n",
       "      <th>4</th>\n",
       "      <td>54</td>\n",
       "      <td>1</td>\n",
       "      <td>2</td>\n",
       "      <td>150</td>\n",
       "      <td>195</td>\n",
       "      <td>0</td>\n",
       "      <td>1</td>\n",
       "      <td>122</td>\n",
       "      <td>0</td>\n",
       "      <td>0.0</td>\n",
       "      <td>2</td>\n",
       "      <td>0</td>\n",
       "    </tr>\n",
       "    <tr>\n",
       "      <th>...</th>\n",
       "      <td>...</td>\n",
       "      <td>...</td>\n",
       "      <td>...</td>\n",
       "      <td>...</td>\n",
       "      <td>...</td>\n",
       "      <td>...</td>\n",
       "      <td>...</td>\n",
       "      <td>...</td>\n",
       "      <td>...</td>\n",
       "      <td>...</td>\n",
       "      <td>...</td>\n",
       "      <td>...</td>\n",
       "    </tr>\n",
       "    <tr>\n",
       "      <th>913</th>\n",
       "      <td>45</td>\n",
       "      <td>1</td>\n",
       "      <td>3</td>\n",
       "      <td>110</td>\n",
       "      <td>264</td>\n",
       "      <td>0</td>\n",
       "      <td>1</td>\n",
       "      <td>132</td>\n",
       "      <td>0</td>\n",
       "      <td>1.2</td>\n",
       "      <td>1</td>\n",
       "      <td>1</td>\n",
       "    </tr>\n",
       "    <tr>\n",
       "      <th>914</th>\n",
       "      <td>68</td>\n",
       "      <td>1</td>\n",
       "      <td>0</td>\n",
       "      <td>144</td>\n",
       "      <td>193</td>\n",
       "      <td>1</td>\n",
       "      <td>1</td>\n",
       "      <td>141</td>\n",
       "      <td>0</td>\n",
       "      <td>3.4</td>\n",
       "      <td>1</td>\n",
       "      <td>1</td>\n",
       "    </tr>\n",
       "    <tr>\n",
       "      <th>915</th>\n",
       "      <td>57</td>\n",
       "      <td>1</td>\n",
       "      <td>0</td>\n",
       "      <td>130</td>\n",
       "      <td>131</td>\n",
       "      <td>0</td>\n",
       "      <td>1</td>\n",
       "      <td>115</td>\n",
       "      <td>1</td>\n",
       "      <td>1.2</td>\n",
       "      <td>1</td>\n",
       "      <td>1</td>\n",
       "    </tr>\n",
       "    <tr>\n",
       "      <th>916</th>\n",
       "      <td>57</td>\n",
       "      <td>0</td>\n",
       "      <td>1</td>\n",
       "      <td>130</td>\n",
       "      <td>236</td>\n",
       "      <td>0</td>\n",
       "      <td>0</td>\n",
       "      <td>174</td>\n",
       "      <td>0</td>\n",
       "      <td>0.0</td>\n",
       "      <td>1</td>\n",
       "      <td>1</td>\n",
       "    </tr>\n",
       "    <tr>\n",
       "      <th>917</th>\n",
       "      <td>38</td>\n",
       "      <td>1</td>\n",
       "      <td>2</td>\n",
       "      <td>138</td>\n",
       "      <td>175</td>\n",
       "      <td>0</td>\n",
       "      <td>1</td>\n",
       "      <td>173</td>\n",
       "      <td>0</td>\n",
       "      <td>0.0</td>\n",
       "      <td>2</td>\n",
       "      <td>0</td>\n",
       "    </tr>\n",
       "  </tbody>\n",
       "</table>\n",
       "<p>918 rows × 12 columns</p>\n",
       "</div>"
      ],
      "text/plain": [
       "     Age  Sex  ChestPainType  RestingBP  Cholesterol  FastingBS  RestingECG  \\\n",
       "0     40    1              1        140          289          0           1   \n",
       "1     49    0              2        160          180          0           1   \n",
       "2     37    1              1        130          283          0           2   \n",
       "3     48    0              0        138          214          0           1   \n",
       "4     54    1              2        150          195          0           1   \n",
       "..   ...  ...            ...        ...          ...        ...         ...   \n",
       "913   45    1              3        110          264          0           1   \n",
       "914   68    1              0        144          193          1           1   \n",
       "915   57    1              0        130          131          0           1   \n",
       "916   57    0              1        130          236          0           0   \n",
       "917   38    1              2        138          175          0           1   \n",
       "\n",
       "     MaxHR  ExerciseAngina  Oldpeak  ST_Slope  HeartDisease  \n",
       "0      172               0      0.0         2             0  \n",
       "1      156               0      1.0         1             1  \n",
       "2       98               0      0.0         2             0  \n",
       "3      108               1      1.5         1             1  \n",
       "4      122               0      0.0         2             0  \n",
       "..     ...             ...      ...       ...           ...  \n",
       "913    132               0      1.2         1             1  \n",
       "914    141               0      3.4         1             1  \n",
       "915    115               1      1.2         1             1  \n",
       "916    174               0      0.0         1             1  \n",
       "917    173               0      0.0         2             0  \n",
       "\n",
       "[918 rows x 12 columns]"
      ]
     },
     "execution_count": 9,
     "metadata": {},
     "output_type": "execute_result"
    }
   ],
   "source": [
    "# Identify categorical features\n",
    "categorical_features = [col for col in df.columns if not np.issubdtype(df[col].dtype, np.number) and col != \"HeartDisease\"]\n",
    "\n",
    "# Create encoders for categorical features\n",
    "encoders = {col: LabelEncoder().fit(df[col]) for col in categorical_features}\n",
    "\n",
    "# Encode categorical features in training data\n",
    "for col in categorical_features:\n",
    "    df[col] = encoders[col].transform(df[col])\n",
    "    \n",
    "df"
   ]
  },
  {
   "cell_type": "markdown",
   "id": "1adc8f16-b7c0-4571-9bc3-17320e597bb5",
   "metadata": {},
   "source": [
    "## Split data into trainging, validation and test sets"
   ]
  },
  {
   "cell_type": "code",
   "execution_count": 12,
   "id": "8bf86fbc-a499-4347-86d2-fc081950e5af",
   "metadata": {},
   "outputs": [
    {
     "name": "stdout",
     "output_type": "stream",
     "text": [
      "Total dataset: 918 samples\n",
      "Training set: 642 samples\n",
      "Validation set: 92 samples\n",
      "Testing set: 184 samples\n"
     ]
    }
   ],
   "source": [
    "# Step 1: Split 70% training, 30% temp (validation + test)\n",
    "train_df, temp_df = train_test_split(df, test_size=0.3, random_state=42) # using random_state(42) to garantie same splitting data\n",
    "\n",
    "# Step 2: Split temp into 10% validation and 20% test\n",
    "val_df, test_df = train_test_split(temp_df, test_size=2/3, random_state=42)\n",
    "\n",
    "# Print dataset sizes\n",
    "print(f\"Total dataset: {len(df)} samples\")\n",
    "print(f\"Training set: {len(train_df)} samples\")\n",
    "print(f\"Validation set: {len(val_df)} samples\")\n",
    "print(f\"Testing set: {len(test_df)} samples\")"
   ]
  },
  {
   "cell_type": "markdown",
   "id": "dc72aefa-9640-4b88-9ca3-8443ed4c9c0b",
   "metadata": {},
   "source": [
    "## Decision tree implementation"
   ]
  },
  {
   "cell_type": "code",
   "execution_count": 15,
   "id": "a6369fba-d5fb-4b50-a85a-1ecade18602b",
   "metadata": {},
   "outputs": [],
   "source": [
    "class Node:\n",
    "    \"\"\"Node to identify if it is internal node to split or leaf node to predict\"\"\"\n",
    "    def __init__(self, feature=None, threshold=None, left=None, right=None, label=None):\n",
    "        self.feature = feature\n",
    "        self.threshold = threshold\n",
    "        self.left = left\n",
    "        self.right = right\n",
    "        self.label = label\n",
    "\n",
    "    @classmethod\n",
    "    def leaf(cls, label):\n",
    "        return cls(label = label)"
   ]
  },
  {
   "cell_type": "code",
   "execution_count": 17,
   "id": "be0900fa-3254-477b-9ab7-6b5eb101ea7d",
   "metadata": {},
   "outputs": [],
   "source": [
    "class DecisionTree:\n",
    "    def __init__(self, max_depth = None):\n",
    "        self.max_depth = max_depth\n",
    "        self.tree = None\n",
    "\n",
    "    def entropy(self, y):\n",
    "        \"\"\"Compute the entropy (H)\"\"\"\n",
    "        # Count 0s, and 1s\n",
    "        _, counts = np.unique(y, return_counts = True)\n",
    "        # Compute probabilities of 0s, and 1s\n",
    "        probs = counts / counts.sum()\n",
    "        # Get the entropy\n",
    "        return -np.sum(probs * np.log2(probs + 1e-9)) # Adding small number to avoid log of zero\n",
    "\n",
    "    def information_gain(self, y, left_split, right_split):\n",
    "        \"\"\"Compute information gain (IG)\"\"\"\n",
    "        # Compute H(Y)\n",
    "        H_Y = self.entropy(y)\n",
    "        # Compute H(Y|X = left)\n",
    "        H_Y_left = self.entropy(y[left_split])\n",
    "        # Compute H(Y|X = right)\n",
    "        H_Y_right = self.entropy(y[right_split])\n",
    "        # Compute H(Y|X)\n",
    "        H_Y_X = (np.sum(left_split) / len(y)) * H_Y_left + (np.sum(right_split) / len(y)) * H_Y_right\n",
    "        # Get the information gain\n",
    "        return H_Y - H_Y_X\n",
    "\n",
    "    def best_split(self, X, y):\n",
    "        \"\"\"Find the best numerical split\"\"\"\n",
    "        best_feature, best_threshold, best_IG = None, None, 0\n",
    "        best_left_split, best_right_split = None, None\n",
    "\n",
    "        for feature in range(X.shape[1]):  # Iterate over features\n",
    "            unique_values = np.sort(np.unique(X[:, feature])) # Sort feature values\n",
    "            # Try splitting at midpoints between consecutive values\n",
    "            for i in range(len(unique_values) - 1):\n",
    "                threshold = (unique_values[i] + unique_values[i + 1]) / 2  # Midpoint\n",
    "                left_split = X[:, feature] <= threshold\n",
    "                right_split = X[:, feature] > threshold\n",
    "\n",
    "                if np.sum(left_split) == 0 or np.sum(right_split) == 0:\n",
    "                    continue  # Skip invalid splits\n",
    "\n",
    "                IG = self.information_gain(y, left_split, right_split)\n",
    "                if IG > best_IG:\n",
    "                    best_IG, best_feature, best_threshold = IG, feature, threshold\n",
    "                    best_left_split, best_right_split = left_split, right_split\n",
    "\n",
    "        return best_feature, best_threshold, best_left_split, best_right_split\n",
    "\n",
    "    def build_tree(self, X, y, depth=0):\n",
    "        \"\"\"Recursively build the decision tree using threshold splits.\"\"\"\n",
    "        if len(set(y)) == 1:  # If only one class, return leaf node\n",
    "            return Node.leaf(y[0])\n",
    "\n",
    "        if self.max_depth and depth >= self.max_depth:\n",
    "            return Node.leaf(np.bincount(y).argmax())  # Return most common label\n",
    "\n",
    "        feature, threshold, left_split, right_split = self.best_split(X, y)\n",
    "\n",
    "        if feature is None:\n",
    "            return  Node.leaf(np.bincount(y).argmax())  # No valid split\n",
    "\n",
    "        # Recursively build left and right subtrees\n",
    "        left_subtree = self.build_tree(X[left_split, :], y[left_split], depth + 1)\n",
    "        right_subtree = self.build_tree(X[right_split, :], y[right_split], depth + 1)\n",
    "\n",
    "        \n",
    "        return Node(feature, threshold, left_subtree, right_subtree)\n",
    "\n",
    "    def fit(self, X, y):\n",
    "        \"\"\"Train the decision tree.\"\"\"\n",
    "        self.tree = self.build_tree(X, y)\n",
    "\n",
    "    def predict_sample(self, node, x):\n",
    "        \"\"\"Predict a single sample recursively.\"\"\"\n",
    "        if node.label is not None:\n",
    "            return node.label\n",
    "        if isinstance(node.threshold, (int, float)):  # Numeric feature\n",
    "            if x[node.feature] <= node.threshold:\n",
    "                return self.predict_sample(node.left, x)\n",
    "            else:\n",
    "                return self.predict_sample(node.right, x)\n",
    "        else:  # Categorical feature\n",
    "            if x[node.feature] == node.threshold:\n",
    "                return self.predict_sample(node.left, x)\n",
    "            else:\n",
    "                return self.predict_sample(node.right, x)\n",
    "\n",
    "    def predict(self, X):\n",
    "        \"\"\"Predict multiple samples.\"\"\"\n",
    "        return np.array([self.predict_sample(self.tree, x) for x in X])"
   ]
  },
  {
   "cell_type": "markdown",
   "id": "3212c989-f798-4687-8fae-d87fcc0fafab",
   "metadata": {},
   "source": [
    "## Training DecisionTree classifier model"
   ]
  },
  {
   "cell_type": "code",
   "execution_count": 20,
   "id": "ad2ea2db-4c4b-415d-b3fa-10c938cd3350",
   "metadata": {},
   "outputs": [],
   "source": [
    "# Extract X and y\n",
    "X_train = train_df.drop(columns=[\"HeartDisease\"]).values\n",
    "y_train = train_df[\"HeartDisease\"].values\n",
    "\n",
    "# Train a DecisionTree classifier\n",
    "clf = DecisionTree(3)\n",
    "clf.fit(X_train, y_train)"
   ]
  },
  {
   "cell_type": "markdown",
   "id": "a0c77695-e9cf-4814-9bca-fc6c832651b4",
   "metadata": {},
   "source": [
    "## Evaluate on Validation Data"
   ]
  },
  {
   "cell_type": "code",
   "execution_count": 23,
   "id": "a7ecbac4-9a3a-4e84-8536-48bbe628417f",
   "metadata": {},
   "outputs": [
    {
     "name": "stdout",
     "output_type": "stream",
     "text": [
      "Validation Accuracy: 0.7934782608695652\n"
     ]
    }
   ],
   "source": [
    "# Extract X and y\n",
    "X_val = val_df.drop(columns=[\"HeartDisease\"]).values\n",
    "y_val = val_df[\"HeartDisease\"].values\n",
    "\n",
    "val_predictions = clf.predict(X_val)\n",
    "val_accuracy = accuracy_score(y_val, val_predictions) \n",
    "print(\"Validation Accuracy:\", val_accuracy)"
   ]
  },
  {
   "cell_type": "markdown",
   "id": "80087085-3f64-4b39-8875-87ad056e302b",
   "metadata": {},
   "source": [
    "## Predict on Testing Data"
   ]
  },
  {
   "cell_type": "code",
   "execution_count": 26,
   "id": "e8259d86-af1a-4315-96d1-d8e7f1286b1f",
   "metadata": {},
   "outputs": [
    {
     "data": {
      "text/plain": [
       "array([1, 0, 0, 0, 1, 0, 1, 1, 1, 1, 0, 1, 0, 0, 1, 1, 0, 0, 1, 1, 1, 1,\n",
       "       1, 1, 1, 0, 0, 1, 1, 0, 0, 0, 1, 1, 1, 1, 1, 0, 1, 1, 1, 0, 1, 1,\n",
       "       1, 0, 0, 0, 0, 0, 0, 1, 1, 1, 0, 1, 0, 1, 1, 0, 0, 0, 0, 1, 0, 1,\n",
       "       1, 1, 1, 1, 0, 0, 1, 1, 1, 1, 1, 1, 1, 0, 0, 1, 1, 1, 0, 0, 1, 0,\n",
       "       1, 0, 0, 1, 0, 0, 1, 1, 0, 1, 1, 1, 0, 1, 1, 1, 0, 0, 1, 1, 0, 1,\n",
       "       0, 1, 0, 1, 0, 0, 0, 1, 1, 0, 1, 0, 1, 1, 0, 1, 1, 0, 1, 0, 1, 0,\n",
       "       1, 1, 0, 1, 0, 0, 0, 1, 0, 1, 0, 0, 1, 0, 1, 0, 1, 0, 1, 0, 1, 1,\n",
       "       1, 1, 0, 0, 1, 1, 0, 0, 1, 1, 1, 0, 0, 1, 1, 1, 1, 0, 0, 0, 0, 0,\n",
       "       1, 1, 0, 0, 0, 0, 0, 0], dtype=int64)"
      ]
     },
     "execution_count": 26,
     "metadata": {},
     "output_type": "execute_result"
    }
   ],
   "source": [
    "# Extract X and y\n",
    "X_test = test_df.drop(columns=[\"HeartDisease\"]).values\n",
    "y_test = test_df[\"HeartDisease\"].values\n",
    "\n",
    "# Predict\n",
    "test_prediction = clf.predict(X_test)\n",
    "\n",
    "test_prediction"
   ]
  },
  {
   "cell_type": "markdown",
   "id": "d71d5079-9e18-4642-950d-4476a66d155e",
   "metadata": {},
   "source": [
    "## Performance Metrics on Testing Data"
   ]
  },
  {
   "cell_type": "code",
   "execution_count": 34,
   "id": "1c57a192-72d5-4a3f-a0a1-145ddf3c3d13",
   "metadata": {},
   "outputs": [
    {
     "name": "stdout",
     "output_type": "stream",
     "text": [
      "Accuracy:  0.86\n",
      "Precision: 0.88\n",
      "Recall:    0.86\n",
      "F1-Score:  0.87\n"
     ]
    }
   ],
   "source": [
    "test_accuracy = accuracy_score(y_test, test_predictions) \n",
    "test_precision = precision_score(y_test, test_prediction)\n",
    "test_recall = recall_score(y_test, test_prediction)\n",
    "test_f1 = f1_score(y_test, test_prediction)\n",
    "\n",
    "print(f\"Accuracy:  {test_accuracy:.2f}\")\n",
    "print(f\"Precision: {test_precision:.2f}\")\n",
    "print(f\"Recall:    {test_recall:.2f}\")\n",
    "print(f\"F1-Score:  {test_f1:.2f}\")"
   ]
  },
  {
   "cell_type": "markdown",
   "id": "3d78fe93-d1bb-49f6-ba23-c6ec7900596e",
   "metadata": {},
   "source": [
    "## Confusion Matrix"
   ]
  },
  {
   "cell_type": "code",
   "execution_count": 45,
   "id": "d643dd68-d265-4ccb-98c1-02d7744d6bdc",
   "metadata": {},
   "outputs": [
    {
     "data": {
      "image/png": "[encoded data removed]",
      "text/plain": [
       "<Figure size 500x400 with 2 Axes>"
      ]
     },
     "metadata": {},
     "output_type": "display_data"
    }
   ],
   "source": [
    "cm = confusion_matrix(y_test, test_prediction)\n",
    "\n",
    "plt.figure(figsize=(5, 4))\n",
    "sns.heatmap(cm, annot=True, fmt=\"d\", cmap=\"Blues\", xticklabels=[\"Normal\", \"Heart Disease\"], yticklabels=[\"Normal\", \"Heart Disease\"])\n",
    "plt.xlabel(\"Predicted Label\")\n",
    "plt.ylabel(\"True Label\")\n",
    "plt.title(\"Confusion Matrix\")\n",
    "plt.show()"
   ]
  },
  {
   "cell_type": "code",
   "execution_count": null,
   "id": "3d9d90c4-2fd1-4324-9fb9-0e8b42c815ed",
   "metadata": {},
   "outputs": [],
   "source": []
  }
 ],
 "metadata": {
  "kernelspec": {
   "display_name": "Python [conda env:base] *",
   "language": "python",
   "name": "conda-base-py"
  },
  "language_info": {
   "codemirror_mode": {
    "name": "ipython",
    "version": 3
   },
   "file_extension": ".py",
   "mimetype": "text/x-python",
   "name": "python",
   "nbconvert_exporter": "python",
   "pygments_lexer": "ipython3",
   "version": "3.12.7"
  }
 },
 "nbformat": 4,
 "nbformat_minor": 5
}
