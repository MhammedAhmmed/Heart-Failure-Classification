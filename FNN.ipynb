{
 "cells": [
  {
   "cell_type": "markdown",
   "id": "eaf0546d-2d1d-484d-bfa5-3a388908c1f7",
   "metadata": {},
   "source": [
    "## Import libraries"
   ]
  },
  {
   "cell_type": "code",
   "execution_count": 61,
   "id": "6cbae2b9-b7ce-4afb-8558-ef2cf020a51b",
   "metadata": {},
   "outputs": [],
   "source": [
    "import numpy as np\n",
    "import pandas as pd\n",
    "import matplotlib.pyplot as plt\n",
    "import seaborn as sns\n",
    "from sklearn.preprocessing import StandardScaler # for normalization\n",
    "from sklearn.model_selection import train_test_split # for split data into trainging, validation and testing\n",
    "from sklearn.preprocessing import LabelEncoder # for encoding categorical features to numerical\n",
    "from sklearn.metrics import accuracy_score, precision_score, recall_score, f1_score, confusion_matrix, classification_report # for Evaluation\n",
    "import tensorflow as tf\n",
    "from tensorflow import keras\n",
    "from tensorflow.keras.models import Sequential\n",
    "from tensorflow.keras.layers import Dense\n",
    "from tensorflow.keras.optimizers import Adam\n",
    "from tensorflow.keras.losses import BinaryCrossentropy\n",
    "from tensorflow.keras.callbacks import EarlyStopping"
   ]
  },
  {
   "cell_type": "markdown",
   "id": "e14f5f86-28b8-478f-9294-1a612a922192",
   "metadata": {},
   "source": [
    "## Show downloaded data"
   ]
  },
  {
   "cell_type": "code",
   "execution_count": 64,
   "id": "7717ad36-fceb-4a7d-b5fd-3558a7c949ba",
   "metadata": {},
   "outputs": [
    {
     "name": "stdout",
     "output_type": "stream",
     "text": [
      "   Age Sex ChestPainType  RestingBP  Cholesterol  FastingBS RestingECG  MaxHR  \\\n",
      "0   40   M           ATA        140          289          0     Normal    172   \n",
      "1   49   F           NAP        160          180          0     Normal    156   \n",
      "2   37   M           ATA        130          283          0         ST     98   \n",
      "3   48   F           ASY        138          214          0     Normal    108   \n",
      "4   54   M           NAP        150          195          0     Normal    122   \n",
      "\n",
      "  ExerciseAngina  Oldpeak ST_Slope  HeartDisease  \n",
      "0              N      0.0       Up             0  \n",
      "1              N      1.0     Flat             1  \n",
      "2              N      0.0       Up             0  \n",
      "3              Y      1.5     Flat             1  \n",
      "4              N      0.0       Up             0  \n"
     ]
    }
   ],
   "source": [
    "df = pd.read_csv(\"archive/heart.csv\")\n",
    "print(df.head())  # Show the first few rows"
   ]
  },
  {
   "cell_type": "markdown",
   "id": "b296efd4-ccc9-4b42-befe-3ca4f1d19b97",
   "metadata": {},
   "source": [
    "## Encoding Categorical features"
   ]
  },
  {
   "cell_type": "code",
   "execution_count": 67,
   "id": "134a46a8-5158-4fb1-a409-b7c55a566673",
   "metadata": {},
   "outputs": [
    {
     "data": {
      "text/html": [
       "<div>\n",
       "<style scoped>\n",
       "    .dataframe tbody tr th:only-of-type {\n",
       "        vertical-align: middle;\n",
       "    }\n",
       "\n",
       "    .dataframe tbody tr th {\n",
       "        vertical-align: top;\n",
       "    }\n",
       "\n",
       "    .dataframe thead th {\n",
       "        text-align: right;\n",
       "    }\n",
       "</style>\n",
       "<table border=\"1\" class=\"dataframe\">\n",
       "  <thead>\n",
       "    <tr style=\"text-align: right;\">\n",
       "      <th></th>\n",
       "      <th>Age</th>\n",
       "      <th>Sex</th>\n",
       "      <th>ChestPainType</th>\n",
       "      <th>RestingBP</th>\n",
       "      <th>Cholesterol</th>\n",
       "      <th>FastingBS</th>\n",
       "      <th>RestingECG</th>\n",
       "      <th>MaxHR</th>\n",
       "      <th>ExerciseAngina</th>\n",
       "      <th>Oldpeak</th>\n",
       "      <th>ST_Slope</th>\n",
       "      <th>HeartDisease</th>\n",
       "    </tr>\n",
       "  </thead>\n",
       "  <tbody>\n",
       "    <tr>\n",
       "      <th>0</th>\n",
       "      <td>40</td>\n",
       "      <td>1</td>\n",
       "      <td>1</td>\n",
       "      <td>140</td>\n",
       "      <td>289</td>\n",
       "      <td>0</td>\n",
       "      <td>1</td>\n",
       "      <td>172</td>\n",
       "      <td>0</td>\n",
       "      <td>0.0</td>\n",
       "      <td>2</td>\n",
       "      <td>0</td>\n",
       "    </tr>\n",
       "    <tr>\n",
       "      <th>1</th>\n",
       "      <td>49</td>\n",
       "      <td>0</td>\n",
       "      <td>2</td>\n",
       "      <td>160</td>\n",
       "      <td>180</td>\n",
       "      <td>0</td>\n",
       "      <td>1</td>\n",
       "      <td>156</td>\n",
       "      <td>0</td>\n",
       "      <td>1.0</td>\n",
       "      <td>1</td>\n",
       "      <td>1</td>\n",
       "    </tr>\n",
       "    <tr>\n",
       "      <th>2</th>\n",
       "      <td>37</td>\n",
       "      <td>1</td>\n",
       "      <td>1</td>\n",
       "      <td>130</td>\n",
       "      <td>283</td>\n",
       "      <td>0</td>\n",
       "      <td>2</td>\n",
       "      <td>98</td>\n",
       "      <td>0</td>\n",
       "      <td>0.0</td>\n",
       "      <td>2</td>\n",
       "      <td>0</td>\n",
       "    </tr>\n",
       "    <tr>\n",
       "      <th>3</th>\n",
       "      <td>48</td>\n",
       "      <td>0</td>\n",
       "      <td>0</td>\n",
       "      <td>138</td>\n",
       "      <td>214</td>\n",
       "      <td>0</td>\n",
       "      <td>1</td>\n",
       "      <td>108</td>\n",
       "      <td>1</td>\n",
       "      <td>1.5</td>\n",
       "      <td>1</td>\n",
       "      <td>1</td>\n",
       "    </tr>\n",
       "    <tr>\n",
       "      <th>4</th>\n",
       "      <td>54</td>\n",
       "      <td>1</td>\n",
       "      <td>2</td>\n",
       "      <td>150</td>\n",
       "      <td>195</td>\n",
       "      <td>0</td>\n",
       "      <td>1</td>\n",
       "      <td>122</td>\n",
       "      <td>0</td>\n",
       "      <td>0.0</td>\n",
       "      <td>2</td>\n",
       "      <td>0</td>\n",
       "    </tr>\n",
       "    <tr>\n",
       "      <th>...</th>\n",
       "      <td>...</td>\n",
       "      <td>...</td>\n",
       "      <td>...</td>\n",
       "      <td>...</td>\n",
       "      <td>...</td>\n",
       "      <td>...</td>\n",
       "      <td>...</td>\n",
       "      <td>...</td>\n",
       "      <td>...</td>\n",
       "      <td>...</td>\n",
       "      <td>...</td>\n",
       "      <td>...</td>\n",
       "    </tr>\n",
       "    <tr>\n",
       "      <th>913</th>\n",
       "      <td>45</td>\n",
       "      <td>1</td>\n",
       "      <td>3</td>\n",
       "      <td>110</td>\n",
       "      <td>264</td>\n",
       "      <td>0</td>\n",
       "      <td>1</td>\n",
       "      <td>132</td>\n",
       "      <td>0</td>\n",
       "      <td>1.2</td>\n",
       "      <td>1</td>\n",
       "      <td>1</td>\n",
       "    </tr>\n",
       "    <tr>\n",
       "      <th>914</th>\n",
       "      <td>68</td>\n",
       "      <td>1</td>\n",
       "      <td>0</td>\n",
       "      <td>144</td>\n",
       "      <td>193</td>\n",
       "      <td>1</td>\n",
       "      <td>1</td>\n",
       "      <td>141</td>\n",
       "      <td>0</td>\n",
       "      <td>3.4</td>\n",
       "      <td>1</td>\n",
       "      <td>1</td>\n",
       "    </tr>\n",
       "    <tr>\n",
       "      <th>915</th>\n",
       "      <td>57</td>\n",
       "      <td>1</td>\n",
       "      <td>0</td>\n",
       "      <td>130</td>\n",
       "      <td>131</td>\n",
       "      <td>0</td>\n",
       "      <td>1</td>\n",
       "      <td>115</td>\n",
       "      <td>1</td>\n",
       "      <td>1.2</td>\n",
       "      <td>1</td>\n",
       "      <td>1</td>\n",
       "    </tr>\n",
       "    <tr>\n",
       "      <th>916</th>\n",
       "      <td>57</td>\n",
       "      <td>0</td>\n",
       "      <td>1</td>\n",
       "      <td>130</td>\n",
       "      <td>236</td>\n",
       "      <td>0</td>\n",
       "      <td>0</td>\n",
       "      <td>174</td>\n",
       "      <td>0</td>\n",
       "      <td>0.0</td>\n",
       "      <td>1</td>\n",
       "      <td>1</td>\n",
       "    </tr>\n",
       "    <tr>\n",
       "      <th>917</th>\n",
       "      <td>38</td>\n",
       "      <td>1</td>\n",
       "      <td>2</td>\n",
       "      <td>138</td>\n",
       "      <td>175</td>\n",
       "      <td>0</td>\n",
       "      <td>1</td>\n",
       "      <td>173</td>\n",
       "      <td>0</td>\n",
       "      <td>0.0</td>\n",
       "      <td>2</td>\n",
       "      <td>0</td>\n",
       "    </tr>\n",
       "  </tbody>\n",
       "</table>\n",
       "<p>918 rows × 12 columns</p>\n",
       "</div>"
      ],
      "text/plain": [
       "     Age  Sex  ChestPainType  RestingBP  Cholesterol  FastingBS  RestingECG  \\\n",
       "0     40    1              1        140          289          0           1   \n",
       "1     49    0              2        160          180          0           1   \n",
       "2     37    1              1        130          283          0           2   \n",
       "3     48    0              0        138          214          0           1   \n",
       "4     54    1              2        150          195          0           1   \n",
       "..   ...  ...            ...        ...          ...        ...         ...   \n",
       "913   45    1              3        110          264          0           1   \n",
       "914   68    1              0        144          193          1           1   \n",
       "915   57    1              0        130          131          0           1   \n",
       "916   57    0              1        130          236          0           0   \n",
       "917   38    1              2        138          175          0           1   \n",
       "\n",
       "     MaxHR  ExerciseAngina  Oldpeak  ST_Slope  HeartDisease  \n",
       "0      172               0      0.0         2             0  \n",
       "1      156               0      1.0         1             1  \n",
       "2       98               0      0.0         2             0  \n",
       "3      108               1      1.5         1             1  \n",
       "4      122               0      0.0         2             0  \n",
       "..     ...             ...      ...       ...           ...  \n",
       "913    132               0      1.2         1             1  \n",
       "914    141               0      3.4         1             1  \n",
       "915    115               1      1.2         1             1  \n",
       "916    174               0      0.0         1             1  \n",
       "917    173               0      0.0         2             0  \n",
       "\n",
       "[918 rows x 12 columns]"
      ]
     },
     "execution_count": 67,
     "metadata": {},
     "output_type": "execute_result"
    }
   ],
   "source": [
    "# Identify categorical features\n",
    "categorical_features = [col for col in df.columns \n",
    "                        if not np.issubdtype(df[col].dtype, np.number) and col != \"HeartDisease\"]\n",
    "\n",
    "# Create encoders for categorical features\n",
    "encoders = {col: LabelEncoder().fit(df[col]) for col in categorical_features}\n",
    "\n",
    "# Encode categorical features in training data\n",
    "for col in categorical_features:\n",
    "    df[col] = encoders[col].transform(df[col])\n",
    "    \n",
    "df"
   ]
  },
  {
   "cell_type": "markdown",
   "id": "f6be4741-6caa-4f8b-b4a0-022ef4c8ff80",
   "metadata": {},
   "source": [
    "## Split data into trainging, validation and test sets"
   ]
  },
  {
   "cell_type": "code",
   "execution_count": 70,
   "id": "46ea5ce6-5fee-4616-979a-1afd776beadc",
   "metadata": {},
   "outputs": [
    {
     "name": "stdout",
     "output_type": "stream",
     "text": [
      "Total dataset: 918 samples\n",
      "Training set: 642 samples\n",
      "Validation set: 92 samples\n",
      "Testing set: 184 samples\n"
     ]
    }
   ],
   "source": [
    "# Step 1: Split 70% training, 30% temp (validation + test)\n",
    "train_df, temp_df = train_test_split(df, test_size=0.3, random_state=42) # using random_state(42) to garantie same splitting data\n",
    "\n",
    "# Step 2: Split temp into 10% validation and 20% test\n",
    "val_df, test_df = train_test_split(temp_df, test_size=2/3, random_state=42)\n",
    "\n",
    "# Print dataset sizes\n",
    "print(f\"Total dataset: {len(df)} samples\")\n",
    "print(f\"Training set: {len(train_df)} samples\")\n",
    "print(f\"Validation set: {len(val_df)} samples\")\n",
    "print(f\"Testing set: {len(test_df)} samples\")"
   ]
  },
  {
   "cell_type": "markdown",
   "id": "c5270214-90bd-458b-9eff-258ee27a2319",
   "metadata": {},
   "source": [
    "## Extract X and y"
   ]
  },
  {
   "cell_type": "code",
   "execution_count": 73,
   "id": "816ddf4c-cf8f-4443-a6d2-71bccc2b5abb",
   "metadata": {},
   "outputs": [],
   "source": [
    "X_train = train_df.drop(columns=[\"HeartDisease\"]).values\n",
    "y_train = train_df[\"HeartDisease\"].values\n",
    "\n",
    "X_val = val_df.drop(columns=[\"HeartDisease\"]).values\n",
    "y_val = val_df[\"HeartDisease\"].values\n",
    "\n",
    "X_test = test_df.drop(columns=[\"HeartDisease\"]).values\n",
    "y_test = test_df[\"HeartDisease\"].values"
   ]
  },
  {
   "cell_type": "markdown",
   "id": "88c424cb-8574-4777-ad7e-ce465472daa3",
   "metadata": {},
   "source": [
    "## Normalize the features"
   ]
  },
  {
   "cell_type": "code",
   "execution_count": 57,
   "id": "252966f9-9456-4dc5-9014-1b0bd8724929",
   "metadata": {},
   "outputs": [],
   "source": [
    "# standardize data \n",
    "scaler = StandardScaler()\n",
    "X_train = scaler.fit_transform(X_train)\n",
    "X_val = scaler.transform(X_val)\n",
    "X_test = scaler.transform(X_test)"
   ]
  },
  {
   "cell_type": "markdown",
   "id": "be38c582-7943-4be0-b3b7-b2cc40d6d27d",
   "metadata": {},
   "source": [
    " ## Feedforward Neural Network (FNN) implementation "
   ]
  },
  {
   "cell_type": "code",
   "execution_count": null,
   "id": "ffd04e86-642d-477f-b8f8-0c8539c7613a",
   "metadata": {},
   "outputs": [],
   "source": [
    "# --- 1. Define the Neural Network ---\n",
    "model = Sequential([\n",
    "    Dense(32, activation='relu', input_shape=(X_train.shape[1],)),  # Hidden layer (32 neurons, ReLU)\n",
    "    Dense(1, activation='sigmoid')  # Output layer (1 neuron, Sigmoid for binary classification)\n",
    "])\n",
    "\n",
    "# --- 2. Compile the Model ---\n",
    "model.compile(optimizer=Adam(learning_rate=0.001), \n",
    "              loss=BinaryCrossentropy(),\n",
    "              metrics=['accuracy'])"
   ]
  },
  {
   "cell_type": "markdown",
   "id": "5295c569-ad1a-4034-95a8-071d4a0026c9",
   "metadata": {},
   "source": [
    "## Train the Model"
   ]
  },
  {
   "cell_type": "code",
   "execution_count": null,
   "id": "e8618bcf-43e9-4f80-925e-3b93d85c6c15",
   "metadata": {},
   "outputs": [],
   "source": [
    "# --- 3. Train the Model ---\n",
    "history = model.fit(X_train, y_train, \n",
    "                    validation_data=(X_val, y_val),  \n",
    "                    epochs=50, batch_size=8,  \n",
    "                    callbacks=[EarlyStopping(monitor='val_loss', patience=5, restore_best_weights=True)], \n",
    "                    verbose=1)"
   ]
  },
  {
   "cell_type": "markdown",
   "id": "6e170369-810f-40da-bcfb-e517fb3beb52",
   "metadata": {},
   "source": [
    "## Evaluate on Test Data"
   ]
  },
  {
   "cell_type": "code",
   "execution_count": null,
   "id": "71b9cb69-6136-4cb3-87cb-cb8307560f98",
   "metadata": {},
   "outputs": [],
   "source": [
    "# --- 4. Evaluate on Test Data ---\n",
    "test_loss, test_accuracy = model.evaluate(X_test, y_test)\n",
    "print(f\"\\nTest Accuracy: {test_accuracy:.2f}\")"
   ]
  },
  {
   "cell_type": "markdown",
   "id": "ce177818-9170-45cb-9bd2-6016d34c6a27",
   "metadata": {},
   "source": [
    "## Evaluate on Validation Data"
   ]
  },
  {
   "cell_type": "code",
   "execution_count": null,
   "id": "bc841116-f717-4738-9b86-4ad2a9c91347",
   "metadata": {},
   "outputs": [],
   "source": [
    "# --- 5. Evaluate on Validation Data ---\n",
    "val_loss, val_accuracy = model.evaluate(X_val, y_val)\n",
    "print(f\"\\nValidation Accuracy: {val_accuracy:.2f}\")"
   ]
  },
  {
   "cell_type": "markdown",
   "id": "2215588a-7b0a-4f70-8963-75f4042034d0",
   "metadata": {},
   "source": [
    "## Predictions"
   ]
  },
  {
   "cell_type": "code",
   "execution_count": null,
   "id": "e0215a58-12d1-4681-aca7-b6d402ebace4",
   "metadata": {},
   "outputs": [],
   "source": [
    "# --- 6. Predictions ---\n",
    "y_test_pred_prob = model.predict(X_test)\n",
    "y_test_pred = (y_test_pred_prob > 0.5).astype(int)  # Convert probabilities to binary classes\n",
    "\n",
    "y_val_pred_prob = model.predict(X_val)\n",
    "y_val_pred = (y_val_pred_prob > 0.5).astype(int)"
   ]
  },
  {
   "cell_type": "markdown",
   "id": "3b0d620d-0a07-4589-b3de-65a029ce3f90",
   "metadata": {},
   "source": [
    "## Performance Metrics for Test Data"
   ]
  },
  {
   "cell_type": "code",
   "execution_count": null,
   "id": "534c281c-fb55-44d1-b586-d91d6f9bd154",
   "metadata": {},
   "outputs": [],
   "source": [
    "# --- 7. Performance Metrics for Test Data ---\n",
    "test_accuracy = accuracy_score(y_test, y_test_pred)\n",
    "test_precision = precision_score(y_test, y_test_pred)\n",
    "test_recall = recall_score(y_test, y_test_pred)\n",
    "test_f1 = f1_score(y_test, y_test_pred)\n",
    "\n",
    "print(\"\\n--- Test Performance Metrics ---\")\n",
    "print(f\"Accuracy:  {test_accuracy:.2f}\")\n",
    "print(f\"Precision: {test_precision:.2f}\")\n",
    "print(f\"Recall:    {test_recall:.2f}\")\n",
    "print(f\"F1-Score:  {test_f1:.2f}\")"
   ]
  },
  {
   "cell_type": "markdown",
   "id": "b0d5a278-67ac-40ba-9ddc-46d23c627776",
   "metadata": {},
   "source": [
    "## Confusion Matrix"
   ]
  },
  {
   "cell_type": "code",
   "execution_count": null,
   "id": "7aa1a0e4-01c0-4615-83c4-040a580f0d31",
   "metadata": {},
   "outputs": [],
   "source": [
    "cm_test = confusion_matrix(y_test, y_test_pred)\n",
    "plt.figure(figsize=(5, 4))\n",
    "sns.heatmap(cm_test, annot=True, fmt=\"d\", cmap=\"Blues\", xticklabels=[\"Normal\", \"Heart Disease\"], yticklabels=[\"Normal\", \"Heart Disease\"])\n",
    "plt.xlabel(\"Predicted Label\")\n",
    "plt.ylabel(\"True Label\")\n",
    "plt.title(\"Confusion Matrix (Test Data)\")\n",
    "plt.show()"
   ]
  },
  {
   "cell_type": "markdown",
   "id": "6084acad-6bb4-496d-9a4a-e5468921023a",
   "metadata": {},
   "source": [
    "## Classification Reports"
   ]
  },
  {
   "cell_type": "code",
   "execution_count": null,
   "id": "d54823e7-b353-498a-b1bd-d6d7d33de969",
   "metadata": {},
   "outputs": [],
   "source": [
    "print(\"\\n--- Test Classification Report ---\")\n",
    "print(classification_report(y_test, y_test_pred, target_names=[\"Normal\", \"Heart Disease\"]))"
   ]
  },
  {
   "cell_type": "code",
   "execution_count": 59,
   "id": "6ef4e638-5b14-4519-8c0a-3496d3bbfdfd",
   "metadata": {},
   "outputs": [
    {
     "name": "stderr",
     "output_type": "stream",
     "text": [
      "E:\\omar\\programs\\anaconda3\\Lib\\site-packages\\keras\\src\\layers\\core\\dense.py:87: UserWarning: Do not pass an `input_shape`/`input_dim` argument to a layer. When using Sequential models, prefer using an `Input(shape)` object as the first layer in the model instead.\n",
      "  super().__init__(activity_regularizer=activity_regularizer, **kwargs)\n"
     ]
    },
    {
     "name": "stdout",
     "output_type": "stream",
     "text": [
      "Epoch 1/50\n",
      "\u001b[1m81/81\u001b[0m \u001b[32m━━━━━━━━━━━━━━━━━━━━\u001b[0m\u001b[37m\u001b[0m \u001b[1m2s\u001b[0m 8ms/step - accuracy: 0.5996 - loss: 0.6452 - val_accuracy: 0.8152 - val_loss: 0.4931\n",
      "Epoch 2/50\n",
      "\u001b[1m81/81\u001b[0m \u001b[32m━━━━━━━━━━━━━━━━━━━━\u001b[0m\u001b[37m\u001b[0m \u001b[1m1s\u001b[0m 4ms/step - accuracy: 0.8215 - loss: 0.4649 - val_accuracy: 0.8261 - val_loss: 0.4135\n",
      "Epoch 3/50\n",
      "\u001b[1m81/81\u001b[0m \u001b[32m━━━━━━━━━━━━━━━━━━━━\u001b[0m\u001b[37m\u001b[0m \u001b[1m0s\u001b[0m 4ms/step - accuracy: 0.8305 - loss: 0.4059 - val_accuracy: 0.8261 - val_loss: 0.3876\n",
      "Epoch 4/50\n",
      "\u001b[1m81/81\u001b[0m \u001b[32m━━━━━━━━━━━━━━━━━━━━\u001b[0m\u001b[37m\u001b[0m \u001b[1m1s\u001b[0m 4ms/step - accuracy: 0.8241 - loss: 0.3963 - val_accuracy: 0.8261 - val_loss: 0.3703\n",
      "Epoch 5/50\n",
      "\u001b[1m81/81\u001b[0m \u001b[32m━━━━━━━━━━━━━━━━━━━━\u001b[0m\u001b[37m\u001b[0m \u001b[1m0s\u001b[0m 4ms/step - accuracy: 0.8376 - loss: 0.3764 - val_accuracy: 0.8261 - val_loss: 0.3666\n",
      "Epoch 6/50\n",
      "\u001b[1m81/81\u001b[0m \u001b[32m━━━━━━━━━━━━━━━━━━━━\u001b[0m\u001b[37m\u001b[0m \u001b[1m1s\u001b[0m 4ms/step - accuracy: 0.8377 - loss: 0.3524 - val_accuracy: 0.8152 - val_loss: 0.3623\n",
      "Epoch 7/50\n",
      "\u001b[1m81/81\u001b[0m \u001b[32m━━━━━━━━━━━━━━━━━━━━\u001b[0m\u001b[37m\u001b[0m \u001b[1m1s\u001b[0m 4ms/step - accuracy: 0.8421 - loss: 0.3645 - val_accuracy: 0.8261 - val_loss: 0.3549\n",
      "Epoch 8/50\n",
      "\u001b[1m81/81\u001b[0m \u001b[32m━━━━━━━━━━━━━━━━━━━━\u001b[0m\u001b[37m\u001b[0m \u001b[1m1s\u001b[0m 4ms/step - accuracy: 0.8434 - loss: 0.3549 - val_accuracy: 0.8261 - val_loss: 0.3572\n",
      "Epoch 9/50\n",
      "\u001b[1m81/81\u001b[0m \u001b[32m━━━━━━━━━━━━━━━━━━━━\u001b[0m\u001b[37m\u001b[0m \u001b[1m1s\u001b[0m 4ms/step - accuracy: 0.8705 - loss: 0.3170 - val_accuracy: 0.8261 - val_loss: 0.3563\n",
      "Epoch 10/50\n",
      "\u001b[1m81/81\u001b[0m \u001b[32m━━━━━━━━━━━━━━━━━━━━\u001b[0m\u001b[37m\u001b[0m \u001b[1m0s\u001b[0m 4ms/step - accuracy: 0.8693 - loss: 0.3308 - val_accuracy: 0.8261 - val_loss: 0.3515\n",
      "Epoch 11/50\n",
      "\u001b[1m81/81\u001b[0m \u001b[32m━━━━━━━━━━━━━━━━━━━━\u001b[0m\u001b[37m\u001b[0m \u001b[1m1s\u001b[0m 4ms/step - accuracy: 0.8668 - loss: 0.3187 - val_accuracy: 0.8261 - val_loss: 0.3513\n",
      "Epoch 12/50\n",
      "\u001b[1m81/81\u001b[0m \u001b[32m━━━━━━━━━━━━━━━━━━━━\u001b[0m\u001b[37m\u001b[0m \u001b[1m1s\u001b[0m 4ms/step - accuracy: 0.8616 - loss: 0.3275 - val_accuracy: 0.8261 - val_loss: 0.3461\n",
      "Epoch 13/50\n",
      "\u001b[1m81/81\u001b[0m \u001b[32m━━━━━━━━━━━━━━━━━━━━\u001b[0m\u001b[37m\u001b[0m \u001b[1m1s\u001b[0m 4ms/step - accuracy: 0.8732 - loss: 0.3213 - val_accuracy: 0.8261 - val_loss: 0.3473\n",
      "Epoch 14/50\n",
      "\u001b[1m81/81\u001b[0m \u001b[32m━━━━━━━━━━━━━━━━━━━━\u001b[0m\u001b[37m\u001b[0m \u001b[1m1s\u001b[0m 4ms/step - accuracy: 0.8922 - loss: 0.2951 - val_accuracy: 0.8261 - val_loss: 0.3416\n",
      "Epoch 15/50\n",
      "\u001b[1m81/81\u001b[0m \u001b[32m━━━━━━━━━━━━━━━━━━━━\u001b[0m\u001b[37m\u001b[0m \u001b[1m1s\u001b[0m 4ms/step - accuracy: 0.8818 - loss: 0.3124 - val_accuracy: 0.8261 - val_loss: 0.3425\n",
      "Epoch 16/50\n",
      "\u001b[1m81/81\u001b[0m \u001b[32m━━━━━━━━━━━━━━━━━━━━\u001b[0m\u001b[37m\u001b[0m \u001b[1m1s\u001b[0m 4ms/step - accuracy: 0.8490 - loss: 0.3560 - val_accuracy: 0.8261 - val_loss: 0.3388\n",
      "Epoch 17/50\n",
      "\u001b[1m81/81\u001b[0m \u001b[32m━━━━━━━━━━━━━━━━━━━━\u001b[0m\u001b[37m\u001b[0m \u001b[1m1s\u001b[0m 4ms/step - accuracy: 0.8679 - loss: 0.3181 - val_accuracy: 0.8370 - val_loss: 0.3420\n",
      "Epoch 18/50\n",
      "\u001b[1m81/81\u001b[0m \u001b[32m━━━━━━━━━━━━━━━━━━━━\u001b[0m\u001b[37m\u001b[0m \u001b[1m1s\u001b[0m 4ms/step - accuracy: 0.8684 - loss: 0.3154 - val_accuracy: 0.8478 - val_loss: 0.3393\n",
      "Epoch 19/50\n",
      "\u001b[1m81/81\u001b[0m \u001b[32m━━━━━━━━━━━━━━━━━━━━\u001b[0m\u001b[37m\u001b[0m \u001b[1m1s\u001b[0m 4ms/step - accuracy: 0.8621 - loss: 0.3358 - val_accuracy: 0.8478 - val_loss: 0.3377\n",
      "Epoch 20/50\n",
      "\u001b[1m81/81\u001b[0m \u001b[32m━━━━━━━━━━━━━━━━━━━━\u001b[0m\u001b[37m\u001b[0m \u001b[1m1s\u001b[0m 4ms/step - accuracy: 0.8529 - loss: 0.3309 - val_accuracy: 0.8478 - val_loss: 0.3368\n",
      "Epoch 21/50\n",
      "\u001b[1m81/81\u001b[0m \u001b[32m━━━━━━━━━━━━━━━━━━━━\u001b[0m\u001b[37m\u001b[0m \u001b[1m1s\u001b[0m 4ms/step - accuracy: 0.8913 - loss: 0.2935 - val_accuracy: 0.8587 - val_loss: 0.3375\n",
      "Epoch 22/50\n",
      "\u001b[1m81/81\u001b[0m \u001b[32m━━━━━━━━━━━━━━━━━━━━\u001b[0m\u001b[37m\u001b[0m \u001b[1m1s\u001b[0m 4ms/step - accuracy: 0.8710 - loss: 0.3043 - val_accuracy: 0.8587 - val_loss: 0.3336\n",
      "Epoch 23/50\n",
      "\u001b[1m81/81\u001b[0m \u001b[32m━━━━━━━━━━━━━━━━━━━━\u001b[0m\u001b[37m\u001b[0m \u001b[1m1s\u001b[0m 4ms/step - accuracy: 0.8844 - loss: 0.2747 - val_accuracy: 0.8913 - val_loss: 0.3272\n",
      "Epoch 24/50\n",
      "\u001b[1m81/81\u001b[0m \u001b[32m━━━━━━━━━━━━━━━━━━━━\u001b[0m\u001b[37m\u001b[0m \u001b[1m0s\u001b[0m 4ms/step - accuracy: 0.8834 - loss: 0.2812 - val_accuracy: 0.8804 - val_loss: 0.3322\n",
      "Epoch 25/50\n",
      "\u001b[1m81/81\u001b[0m \u001b[32m━━━━━━━━━━━━━━━━━━━━\u001b[0m\u001b[37m\u001b[0m \u001b[1m0s\u001b[0m 4ms/step - accuracy: 0.8734 - loss: 0.3006 - val_accuracy: 0.8913 - val_loss: 0.3288\n",
      "Epoch 26/50\n",
      "\u001b[1m81/81\u001b[0m \u001b[32m━━━━━━━━━━━━━━━━━━━━\u001b[0m\u001b[37m\u001b[0m \u001b[1m1s\u001b[0m 4ms/step - accuracy: 0.8685 - loss: 0.3200 - val_accuracy: 0.8913 - val_loss: 0.3259\n",
      "Epoch 27/50\n",
      "\u001b[1m81/81\u001b[0m \u001b[32m━━━━━━━━━━━━━━━━━━━━\u001b[0m\u001b[37m\u001b[0m \u001b[1m0s\u001b[0m 4ms/step - accuracy: 0.9045 - loss: 0.2570 - val_accuracy: 0.8804 - val_loss: 0.3251\n",
      "Epoch 28/50\n",
      "\u001b[1m81/81\u001b[0m \u001b[32m━━━━━━━━━━━━━━━━━━━━\u001b[0m\u001b[37m\u001b[0m \u001b[1m0s\u001b[0m 4ms/step - accuracy: 0.8778 - loss: 0.2953 - val_accuracy: 0.8913 - val_loss: 0.3235\n",
      "Epoch 29/50\n",
      "\u001b[1m81/81\u001b[0m \u001b[32m━━━━━━━━━━━━━━━━━━━━\u001b[0m\u001b[37m\u001b[0m \u001b[1m1s\u001b[0m 5ms/step - accuracy: 0.8954 - loss: 0.2704 - val_accuracy: 0.8804 - val_loss: 0.3241\n",
      "Epoch 30/50\n",
      "\u001b[1m81/81\u001b[0m \u001b[32m━━━━━━━━━━━━━━━━━━━━\u001b[0m\u001b[37m\u001b[0m \u001b[1m1s\u001b[0m 4ms/step - accuracy: 0.8980 - loss: 0.2568 - val_accuracy: 0.8804 - val_loss: 0.3268\n",
      "Epoch 31/50\n",
      "\u001b[1m81/81\u001b[0m \u001b[32m━━━━━━━━━━━━━━━━━━━━\u001b[0m\u001b[37m\u001b[0m \u001b[1m1s\u001b[0m 4ms/step - accuracy: 0.9097 - loss: 0.2465 - val_accuracy: 0.8804 - val_loss: 0.3230\n",
      "Epoch 32/50\n",
      "\u001b[1m81/81\u001b[0m \u001b[32m━━━━━━━━━━━━━━━━━━━━\u001b[0m\u001b[37m\u001b[0m \u001b[1m1s\u001b[0m 5ms/step - accuracy: 0.9082 - loss: 0.2560 - val_accuracy: 0.8804 - val_loss: 0.3216\n",
      "Epoch 33/50\n",
      "\u001b[1m81/81\u001b[0m \u001b[32m━━━━━━━━━━━━━━━━━━━━\u001b[0m\u001b[37m\u001b[0m \u001b[1m1s\u001b[0m 4ms/step - accuracy: 0.8991 - loss: 0.2716 - val_accuracy: 0.8804 - val_loss: 0.3210\n",
      "Epoch 34/50\n",
      "\u001b[1m81/81\u001b[0m \u001b[32m━━━━━━━━━━━━━━━━━━━━\u001b[0m\u001b[37m\u001b[0m \u001b[1m1s\u001b[0m 4ms/step - accuracy: 0.9048 - loss: 0.2589 - val_accuracy: 0.8804 - val_loss: 0.3227\n",
      "Epoch 35/50\n",
      "\u001b[1m81/81\u001b[0m \u001b[32m━━━━━━━━━━━━━━━━━━━━\u001b[0m\u001b[37m\u001b[0m \u001b[1m1s\u001b[0m 4ms/step - accuracy: 0.8716 - loss: 0.2942 - val_accuracy: 0.8804 - val_loss: 0.3244\n",
      "Epoch 36/50\n",
      "\u001b[1m81/81\u001b[0m \u001b[32m━━━━━━━━━━━━━━━━━━━━\u001b[0m\u001b[37m\u001b[0m \u001b[1m0s\u001b[0m 4ms/step - accuracy: 0.8615 - loss: 0.3265 - val_accuracy: 0.8804 - val_loss: 0.3217\n",
      "Epoch 37/50\n",
      "\u001b[1m81/81\u001b[0m \u001b[32m━━━━━━━━━━━━━━━━━━━━\u001b[0m\u001b[37m\u001b[0m \u001b[1m1s\u001b[0m 4ms/step - accuracy: 0.8972 - loss: 0.2710 - val_accuracy: 0.8804 - val_loss: 0.3174\n",
      "Epoch 38/50\n",
      "\u001b[1m81/81\u001b[0m \u001b[32m━━━━━━━━━━━━━━━━━━━━\u001b[0m\u001b[37m\u001b[0m \u001b[1m1s\u001b[0m 4ms/step - accuracy: 0.9063 - loss: 0.2595 - val_accuracy: 0.8804 - val_loss: 0.3165\n",
      "Epoch 39/50\n",
      "\u001b[1m81/81\u001b[0m \u001b[32m━━━━━━━━━━━━━━━━━━━━\u001b[0m\u001b[37m\u001b[0m \u001b[1m1s\u001b[0m 5ms/step - accuracy: 0.8812 - loss: 0.2604 - val_accuracy: 0.8804 - val_loss: 0.3142\n",
      "Epoch 40/50\n",
      "\u001b[1m81/81\u001b[0m \u001b[32m━━━━━━━━━━━━━━━━━━━━\u001b[0m\u001b[37m\u001b[0m \u001b[1m1s\u001b[0m 4ms/step - accuracy: 0.8890 - loss: 0.2514 - val_accuracy: 0.8804 - val_loss: 0.3173\n",
      "Epoch 41/50\n",
      "\u001b[1m81/81\u001b[0m \u001b[32m━━━━━━━━━━━━━━━━━━━━\u001b[0m\u001b[37m\u001b[0m \u001b[1m1s\u001b[0m 4ms/step - accuracy: 0.8980 - loss: 0.2480 - val_accuracy: 0.8804 - val_loss: 0.3134\n",
      "Epoch 42/50\n",
      "\u001b[1m81/81\u001b[0m \u001b[32m━━━━━━━━━━━━━━━━━━━━\u001b[0m\u001b[37m\u001b[0m \u001b[1m1s\u001b[0m 4ms/step - accuracy: 0.8842 - loss: 0.2601 - val_accuracy: 0.8804 - val_loss: 0.3136\n",
      "Epoch 43/50\n",
      "\u001b[1m81/81\u001b[0m \u001b[32m━━━━━━━━━━━━━━━━━━━━\u001b[0m\u001b[37m\u001b[0m \u001b[1m1s\u001b[0m 4ms/step - accuracy: 0.8963 - loss: 0.2549 - val_accuracy: 0.8804 - val_loss: 0.3168\n",
      "Epoch 44/50\n",
      "\u001b[1m81/81\u001b[0m \u001b[32m━━━━━━━━━━━━━━━━━━━━\u001b[0m\u001b[37m\u001b[0m \u001b[1m0s\u001b[0m 4ms/step - accuracy: 0.8936 - loss: 0.2515 - val_accuracy: 0.8696 - val_loss: 0.3206\n",
      "Epoch 45/50\n",
      "\u001b[1m81/81\u001b[0m \u001b[32m━━━━━━━━━━━━━━━━━━━━\u001b[0m\u001b[37m\u001b[0m \u001b[1m1s\u001b[0m 4ms/step - accuracy: 0.9023 - loss: 0.2700 - val_accuracy: 0.8804 - val_loss: 0.3096\n",
      "Epoch 46/50\n",
      "\u001b[1m81/81\u001b[0m \u001b[32m━━━━━━━━━━━━━━━━━━━━\u001b[0m\u001b[37m\u001b[0m \u001b[1m0s\u001b[0m 4ms/step - accuracy: 0.8985 - loss: 0.2600 - val_accuracy: 0.8804 - val_loss: 0.3121\n",
      "Epoch 47/50\n",
      "\u001b[1m81/81\u001b[0m \u001b[32m━━━━━━━━━━━━━━━━━━━━\u001b[0m\u001b[37m\u001b[0m \u001b[1m0s\u001b[0m 4ms/step - accuracy: 0.9072 - loss: 0.2568 - val_accuracy: 0.8696 - val_loss: 0.3210\n",
      "Epoch 48/50\n",
      "\u001b[1m81/81\u001b[0m \u001b[32m━━━━━━━━━━━━━━━━━━━━\u001b[0m\u001b[37m\u001b[0m \u001b[1m1s\u001b[0m 4ms/step - accuracy: 0.9032 - loss: 0.2570 - val_accuracy: 0.8696 - val_loss: 0.3212\n",
      "Epoch 49/50\n",
      "\u001b[1m81/81\u001b[0m \u001b[32m━━━━━━━━━━━━━━━━━━━━\u001b[0m\u001b[37m\u001b[0m \u001b[1m1s\u001b[0m 4ms/step - accuracy: 0.8956 - loss: 0.2478 - val_accuracy: 0.8696 - val_loss: 0.3165\n",
      "Epoch 50/50\n",
      "\u001b[1m81/81\u001b[0m \u001b[32m━━━━━━━━━━━━━━━━━━━━\u001b[0m\u001b[37m\u001b[0m \u001b[1m0s\u001b[0m 4ms/step - accuracy: 0.9077 - loss: 0.2447 - val_accuracy: 0.8696 - val_loss: 0.3141\n",
      "\u001b[1m6/6\u001b[0m \u001b[32m━━━━━━━━━━━━━━━━━━━━\u001b[0m\u001b[37m\u001b[0m \u001b[1m0s\u001b[0m 8ms/step - accuracy: 0.9214 - loss: 0.2691 \n",
      "Test Accuracy: 0.91\n",
      "\u001b[1m6/6\u001b[0m \u001b[32m━━━━━━━━━━━━━━━━━━━━\u001b[0m\u001b[37m\u001b[0m \u001b[1m0s\u001b[0m 14ms/step\n",
      "\n",
      "--- Performance Metrics ---\n",
      "Accuracy:  0.91\n",
      "Precision: 0.93\n",
      "Recall:    0.91\n",
      "F1-Score:  0.92\n"
     ]
    },
    {
     "data": {
      "image/png": "[encoded data removed]",
      "text/plain": [
       "<Figure size 500x400 with 2 Axes>"
      ]
     },
     "metadata": {},
     "output_type": "display_data"
    },
    {
     "name": "stdout",
     "output_type": "stream",
     "text": [
      "\n",
      "--- Classification Report ---\n",
      "               precision    recall  f1-score   support\n",
      "\n",
      "       Normal       0.89      0.91      0.90        82\n",
      "Heart Disease       0.93      0.91      0.92       102\n",
      "\n",
      "     accuracy                           0.91       184\n",
      "    macro avg       0.91      0.91      0.91       184\n",
      " weighted avg       0.91      0.91      0.91       184\n",
      "\n"
     ]
    }
   ],
   "source": [
    "# # --- 1. Define the Neural Network ---\n",
    "# model = Sequential([\n",
    "#     Dense(32, activation='relu', input_shape=(X_train.shape[1],)),  # Hidden layer (32 neurons, ReLU)\n",
    "#     Dense(1, activation='sigmoid')  # Output layer (1 neuron, Sigmoid for binary classification)\n",
    "# ])\n",
    "\n",
    "# # --- 2. Compile the Model ---\n",
    "# model.compile(optimizer=Adam(learning_rate=0.001), \n",
    "#               loss=BinaryCrossentropy(),\n",
    "#               metrics=['accuracy'])\n",
    "\n",
    "# # --- 3. Train the Model ---\n",
    "# history = model.fit(X_train, y_train, \n",
    "#                     validation_data=(X_val, y_val),  \n",
    "#                     epochs=50, batch_size=8,  \n",
    "#                     callbacks=[EarlyStopping(monitor='val_loss', patience=5, restore_best_weights=True)], \n",
    "#                     verbose=1)\n",
    "\n",
    "# # --- 4. Evaluate on Test Data ---\n",
    "# test_loss, test_accuracy = model.evaluate(X_test, y_test)\n",
    "# print(f\"\\nTest Accuracy: {test_accuracy:.2f}\")\n",
    "\n",
    "# # --- 5. Evaluate on Validation Data ---\n",
    "# val_loss, val_accuracy = model.evaluate(X_val, y_val)\n",
    "# print(f\"\\nValidation Accuracy: {val_accuracy:.2f}\")\n",
    "\n",
    "# # --- 6. Predictions ---\n",
    "# y_test_pred_prob = model.predict(X_test)\n",
    "# y_test_pred = (y_test_pred_prob > 0.5).astype(int)  # Convert probabilities to binary classes\n",
    "\n",
    "# y_val_pred_prob = model.predict(X_val)\n",
    "# y_val_pred = (y_val_pred_prob > 0.5).astype(int)\n",
    "\n",
    "# # --- 7. Performance Metrics for Test Data ---\n",
    "# test_accuracy = accuracy_score(y_test, y_test_pred)\n",
    "# test_precision = precision_score(y_test, y_test_pred)\n",
    "# test_recall = recall_score(y_test, y_test_pred)\n",
    "# test_f1 = f1_score(y_test, y_test_pred)\n",
    "\n",
    "# print(\"\\n--- Test Performance Metrics ---\")\n",
    "# print(f\"Accuracy:  {test_accuracy:.2f}\")\n",
    "# print(f\"Precision: {test_precision:.2f}\")\n",
    "# print(f\"Recall:    {test_recall:.2f}\")\n",
    "# print(f\"F1-Score:  {test_f1:.2f}\")\n",
    "\n",
    "# # --- 9. Confusion Matrix (Test) ---\n",
    "# cm_test = confusion_matrix(y_test, y_test_pred)\n",
    "# plt.figure(figsize=(5, 4))\n",
    "# sns.heatmap(cm_test, annot=True, fmt=\"d\", cmap=\"Blues\", xticklabels=[\"Normal\", \"Heart Disease\"], yticklabels=[\"Normal\", \"Heart Disease\"])\n",
    "# plt.xlabel(\"Predicted Label\")\n",
    "# plt.ylabel(\"True Label\")\n",
    "# plt.title(\"Confusion Matrix (Test Data)\")\n",
    "# plt.show()\n",
    "\n",
    "# # --- 11. Classification Reports ---\n",
    "# print(\"\\n--- Test Classification Report ---\")\n",
    "# print(classification_report(y_test, y_test_pred, target_names=[\"Normal\", \"Heart Disease\"]))"
   ]
  },
  {
   "cell_type": "code",
   "execution_count": null,
   "id": "06e57eb0-99e8-41da-8868-8a05d858c7de",
   "metadata": {},
   "outputs": [],
   "source": []
  }
 ],
 "metadata": {
  "kernelspec": {
   "display_name": "Python [conda env:base] *",
   "language": "python",
   "name": "conda-base-py"
  },
  "language_info": {
   "codemirror_mode": {
    "name": "ipython",
    "version": 3
   },
   "file_extension": ".py",
   "mimetype": "text/x-python",
   "name": "python",
   "nbconvert_exporter": "python",
   "pygments_lexer": "ipython3",
   "version": "3.12.7"
  }
 },
 "nbformat": 4,
 "nbformat_minor": 5
}
